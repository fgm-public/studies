{
  "cells": [
    {
      "metadata": {
        "trusted": false
      },
      "cell_type": "code",
      "source": "# Для осуществления запросов к REST API hh.ru нам понадобится модуль 'requests',\n# содержащий некоторые необходимые функции для работы с HTTP\n\nimport requests",
      "execution_count": 1,
      "outputs": []
    },
    {
      "metadata": {
        "trusted": false
      },
      "cell_type": "code",
      "source": "# Точка входа в API HeadHunter для поиска вакансий\n\napi_url = 'https://api.hh.ru/vacancies'",
      "execution_count": 2,
      "outputs": []
    },
    {
      "metadata": {
        "trusted": false
      },
      "cell_type": "code",
      "source": "# Параметры запроса к API, конкретизирующие поисковый запрос.\n# Для прояснения значений параметров следует обратиться к документации\n# по REST API hh.ru (https://github.com/hhru/api)\n\nsearch_parameters = {'text': 'Системный аналитик',\n                     'search_field':'name',\n                     'per_page':'100',\n                     'page': 0,\n                     'describe_arguments':'true'}",
      "execution_count": 3,
      "outputs": []
    },
    {
      "metadata": {
        "trusted": false
      },
      "cell_type": "code",
      "source": "# Делаем запрос с помощью функции 'get' из модуля 'requests' импортированного ранее.\n# В качестве параметров запроса указываем URL поиска вакансий\n# (на этот адрес будет отправлен поисковый запрос) и собственно сам запрос.\n# После выполнения запроса веб-сервер hh.ru возвращает ответ,\n# который мы помещаем в переменную 'raw_response'\n\nraw_response = requests.get(api_url, params = search_parameters)",
      "execution_count": 4,
      "outputs": []
    },
    {
      "metadata": {
        "trusted": false
      },
      "cell_type": "code",
      "source": "# В IPython можно получить содержимое переменной просто введя её имя\n\nraw_response",
      "execution_count": 5,
      "outputs": [
        {
          "data": {
            "text/plain": "<Response [200]>"
          },
          "execution_count": 5,
          "metadata": {},
          "output_type": "execute_result"
        }
      ]
    },
    {
      "metadata": {
        "trusted": false
      },
      "cell_type": "code",
      "source": "# Посмотрим тип объекта содержащего результат работы функции 'requests.get()'\n# с помощью встроенной в Python функции 'type()'\n\ntype(raw_response)",
      "execution_count": 6,
      "outputs": [
        {
          "data": {
            "text/plain": "requests.models.Response"
          },
          "execution_count": 6,
          "metadata": {},
          "output_type": "execute_result"
        }
      ]
    },
    {
      "metadata": {
        "trusted": false
      },
      "cell_type": "code",
      "source": "# Никакой определённости...\n# Посмотрим структуру объекта с помощью встроенной в Python функции 'dir()'\n\ndir(raw_response)",
      "execution_count": 7,
      "outputs": [
        {
          "data": {
            "text/plain": "['__attrs__',\n '__bool__',\n '__class__',\n '__delattr__',\n '__dict__',\n '__dir__',\n '__doc__',\n '__enter__',\n '__eq__',\n '__exit__',\n '__format__',\n '__ge__',\n '__getattribute__',\n '__getstate__',\n '__gt__',\n '__hash__',\n '__init__',\n '__init_subclass__',\n '__iter__',\n '__le__',\n '__lt__',\n '__module__',\n '__ne__',\n '__new__',\n '__nonzero__',\n '__reduce__',\n '__reduce_ex__',\n '__repr__',\n '__setattr__',\n '__setstate__',\n '__sizeof__',\n '__str__',\n '__subclasshook__',\n '__weakref__',\n '_content',\n '_content_consumed',\n '_next',\n 'apparent_encoding',\n 'close',\n 'connection',\n 'content',\n 'cookies',\n 'elapsed',\n 'encoding',\n 'headers',\n 'history',\n 'is_permanent_redirect',\n 'is_redirect',\n 'iter_content',\n 'iter_lines',\n 'json',\n 'links',\n 'next',\n 'ok',\n 'raise_for_status',\n 'raw',\n 'reason',\n 'request',\n 'status_code',\n 'text',\n 'url']"
          },
          "execution_count": 7,
          "metadata": {},
          "output_type": "execute_result"
        }
      ]
    },
    {
      "metadata": {
        "trusted": false
      },
      "cell_type": "code",
      "source": "# Приступаем к исследованию объеков.\n# Например вот здесь (параметр '.url'), лежит сформированная из адреса API и наших параметров строка запроса,\n# которая и была отправлена веб-серверу hh.ru\n\nraw_response.url",
      "execution_count": 8,
      "outputs": [
        {
          "data": {
            "text/plain": "'https://api.hh.ru/vacancies?text=%D0%A1%D0%B8%D1%81%D1%82%D0%B5%D0%BC%D0%BD%D1%8B%D0%B9+%D0%B0%D0%BD%D0%B0%D0%BB%D0%B8%D1%82%D0%B8%D0%BA&search_field=name&per_page=100&page=0&describe_arguments=true'"
          },
          "execution_count": 8,
          "metadata": {},
          "output_type": "execute_result"
        }
      ]
    },
    {
      "metadata": {
        "trusted": false
      },
      "cell_type": "code",
      "source": "# А здесь (параметр '.status_code') статус результата запроса (стандартный код HTTP)\n\nraw_response.status_code",
      "execution_count": 9,
      "outputs": [
        {
          "data": {
            "text/plain": "200"
          },
          "execution_count": 9,
          "metadata": {},
          "output_type": "execute_result"
        }
      ]
    },
    {
      "metadata": {
        "trusted": false
      },
      "cell_type": "code",
      "source": "# Прошёл ли запрос успешно (спойлер: ДА!)\n\nraw_response.ok",
      "execution_count": 10,
      "outputs": [
        {
          "data": {
            "text/plain": "True"
          },
          "execution_count": 10,
          "metadata": {},
          "output_type": "execute_result"
        }
      ]
    },
    {
      "metadata": {
        "trusted": false
      },
      "cell_type": "code",
      "source": "# То что нам нужно лежит в свойстве '.content'\n\nraw_response.content[0:200]",
      "execution_count": 11,
      "outputs": [
        {
          "data": {
            "text/plain": "b'{\"items\":[{\"id\":\"28565981\",\"premium\":false,\"name\":\"\\xd0\\xa1\\xd0\\xb8\\xd1\\x81\\xd1\\x82\\xd0\\xb5\\xd0\\xbc\\xd0\\xbd\\xd1\\x8b\\xd0\\xb9 \\xd0\\xb0\\xd0\\xbd\\xd0\\xb0\\xd0\\xbb\\xd0\\xb8\\xd1\\x82\\xd0\\xb8\\xd0\\xba\",\"department\":null,\"has_test\":false,\"response_letter_required\":true,\"area\":{\"id\":\"1\",\"name\":\"\\xd0\\x9c\\xd0\\xbe\\xd1\\x81\\xd0\\xba\\xd0\\xb2\\xd0\\xb0\",\"url\":'"
          },
          "execution_count": 11,
          "metadata": {},
          "output_type": "execute_result"
        }
      ]
    },
    {
      "metadata": {
        "trusted": false
      },
      "cell_type": "code",
      "source": "# В свойстве '.text', с поправкой на unicode \n\nraw_response.text[0:200]",
      "execution_count": 12,
      "outputs": [
        {
          "data": {
            "text/plain": "'{\"items\":[{\"id\":\"28565981\",\"premium\":false,\"name\":\"Системный аналитик\",\"department\":null,\"has_test\":false,\"response_letter_required\":true,\"area\":{\"id\":\"1\",\"name\":\"Москва\",\"url\":\"https://api.hh.ru/area'"
          },
          "execution_count": 12,
          "metadata": {},
          "output_type": "execute_result"
        }
      ]
    },
    {
      "metadata": {
        "trusted": false
      },
      "cell_type": "code",
      "source": "# Запрос возвращает сырой текст описанный в JSON\n# Восстанавливаем нативный объект Python из JSON plaintext используя метод '.json()'\n# объекта 'requests.models.Response'\n# И кладём результат в переменную response\n\nresponse = raw_response.json()",
      "execution_count": 13,
      "outputs": []
    },
    {
      "metadata": {
        "trusted": false
      },
      "cell_type": "code",
      "source": "# Исследуем то, что получилось в итоге\n\ntype(response)",
      "execution_count": 14,
      "outputs": [
        {
          "data": {
            "text/plain": "dict"
          },
          "execution_count": 14,
          "metadata": {},
          "output_type": "execute_result"
        }
      ]
    },
    {
      "metadata": {
        "trusted": false
      },
      "cell_type": "code",
      "source": "# Ну вот, теперь гораздо лучше - нормальный словарь.\n# Раз словарь, значит смотрим ключи с помощью метода '.keys()'\n\nresponse.keys()",
      "execution_count": 15,
      "outputs": [
        {
          "data": {
            "text/plain": "dict_keys(['items', 'found', 'pages', 'per_page', 'page', 'clusters', 'arguments', 'alternate_url'])"
          },
          "execution_count": 15,
          "metadata": {},
          "output_type": "execute_result"
        }
      ]
    },
    {
      "metadata": {
        "trusted": false
      },
      "cell_type": "code",
      "source": "# Список параметров поиска, указанных в поисковом запросе к API\n\nresponse['arguments']",
      "execution_count": 16,
      "outputs": [
        {
          "data": {
            "text/plain": "[{'argument': 'text',\n  'value': 'Системный аналитик',\n  'value_description': None,\n  'disable_url': 'https://api.hh.ru/vacancies?describe_arguments=true&per_page=100&search_field=name',\n  'cluster_group': None},\n {'argument': 'search_field',\n  'value': 'name',\n  'value_description': 'в названии вакансии',\n  'disable_url': 'https://api.hh.ru/vacancies?describe_arguments=true&no_magic=true&per_page=100&text=%D0%A1%D0%B8%D1%81%D1%82%D0%B5%D0%BC%D0%BD%D1%8B%D0%B9+%D0%B0%D0%BD%D0%B0%D0%BB%D0%B8%D1%82%D0%B8%D0%BA',\n  'cluster_group': None},\n {'argument': 'per_page',\n  'value': '100',\n  'value_description': None,\n  'disable_url': 'https://api.hh.ru/vacancies?describe_arguments=true&search_field=name&text=%D0%A1%D0%B8%D1%81%D1%82%D0%B5%D0%BC%D0%BD%D1%8B%D0%B9+%D0%B0%D0%BD%D0%B0%D0%BB%D0%B8%D1%82%D0%B8%D0%BA',\n  'cluster_group': None}]"
          },
          "execution_count": 16,
          "metadata": {},
          "output_type": "execute_result"
        }
      ]
    },
    {
      "metadata": {
        "trusted": false
      },
      "cell_type": "code",
      "source": "# Номер страницы с которой были получены вакансии\n\nresponse['page']",
      "execution_count": 17,
      "outputs": [
        {
          "data": {
            "text/plain": "0"
          },
          "execution_count": 17,
          "metadata": {},
          "output_type": "execute_result"
        }
      ]
    },
    {
      "metadata": {
        "trusted": false
      },
      "cell_type": "code",
      "source": "# Общее количество страниц найденных по запросу\n\nresponse['pages']",
      "execution_count": 18,
      "outputs": [
        {
          "data": {
            "text/plain": "9"
          },
          "execution_count": 18,
          "metadata": {},
          "output_type": "execute_result"
        }
      ]
    },
    {
      "metadata": {
        "trusted": false
      },
      "cell_type": "code",
      "source": "# Общее количество вакансий найденных по запросу.\n# Всё правильно, мы указывали 'per_page':'100', страниц нашлось 9\n# 100 * 9 = 900, на последней странице только 33 вакансии, на остальных по сто\n\nresponse['found']",
      "execution_count": 19,
      "outputs": [
        {
          "data": {
            "text/plain": "833"
          },
          "execution_count": 19,
          "metadata": {},
          "output_type": "execute_result"
        }
      ]
    },
    {
      "metadata": {
        "trusted": false
      },
      "cell_type": "code",
      "source": "# Двигаемся вглубь...\n\ntype(response['items'])",
      "execution_count": 20,
      "outputs": [
        {
          "data": {
            "text/plain": "list"
          },
          "execution_count": 20,
          "metadata": {},
          "output_type": "execute_result"
        }
      ]
    },
    {
      "metadata": {
        "trusted": false
      },
      "cell_type": "code",
      "source": "# Раз список, то следовательно можно\n\nresponse['items'][0]",
      "execution_count": 21,
      "outputs": [
        {
          "data": {
            "text/plain": "{'id': '28565981',\n 'premium': False,\n 'name': 'Системный аналитик',\n 'department': None,\n 'has_test': False,\n 'response_letter_required': True,\n 'area': {'id': '1', 'name': 'Москва', 'url': 'https://api.hh.ru/areas/1'},\n 'salary': {'from': 110000, 'to': None, 'currency': 'RUR', 'gross': False},\n 'type': {'id': 'open', 'name': 'Открытая'},\n 'address': {'city': 'Москва',\n  'street': 'Зубовский бульвар',\n  'building': '4',\n  'description': None,\n  'lat': 55.73735,\n  'lng': 37.590479,\n  'raw': None,\n  'metro': {'station_name': 'Парк культуры',\n   'line_name': 'Кольцевая',\n   'station_id': '5.104',\n   'line_id': '5',\n   'lat': 55.735221,\n   'lng': 37.593095},\n  'metro_stations': [{'station_name': 'Парк культуры',\n    'line_name': 'Кольцевая',\n    'station_id': '5.104',\n    'line_id': '5',\n    'lat': 55.735221,\n    'lng': 37.593095}],\n  'id': '123909'},\n 'response_url': None,\n 'sort_point_distance': None,\n 'employer': {'id': '24934',\n  'name': 'Агентство Экономической Информации ПРАЙМ',\n  'url': 'https://api.hh.ru/employers/24934',\n  'alternate_url': 'https://hh.ru/employer/24934',\n  'logo_urls': {'90': 'https://hhcdn.ru/employer-logo/634967.png',\n   '240': 'https://hhcdn.ru/employer-logo/634968.png',\n   'original': 'https://hhcdn.ru/employer-logo-original/226862.gif'},\n  'vacancies_url': 'https://api.hh.ru/vacancies?employer_id=24934',\n  'trusted': True},\n 'published_at': '2019-03-01T15:26:51+0300',\n 'created_at': '2019-03-01T15:26:51+0300',\n 'archived': False,\n 'apply_alternate_url': 'https://hh.ru/applicant/vacancy_response?vacancyId=28565981',\n 'insider_interview': None,\n 'url': 'https://api.hh.ru/vacancies/28565981?host=hh.ru',\n 'alternate_url': 'https://hh.ru/vacancy/28565981',\n 'relations': [],\n 'snippet': {'requirement': 'Высшее техническое образование. Опыт работы <highlighttext>системным</highlighttext> <highlighttext>аналитиком</highlighttext> от 2-х лет. Знание методик и инструментов описания бизнес-процессов. ',\n  'responsibility': 'Сбор и анализ требований бизнес заказчика. Моделирование структур данных и описание алгоритмов обработки данных. Написание технических заданий на разработку ПО. '},\n 'contacts': None}"
          },
          "execution_count": 21,
          "metadata": {},
          "output_type": "execute_result"
        }
      ]
    },
    {
      "metadata": {
        "trusted": false
      },
      "cell_type": "code",
      "source": "# Продолжаем в том же духе...\n\ntype(response['items'][0])",
      "execution_count": 23,
      "outputs": [
        {
          "data": {
            "text/plain": "dict"
          },
          "execution_count": 23,
          "metadata": {},
          "output_type": "execute_result"
        }
      ]
    },
    {
      "metadata": {
        "trusted": false
      },
      "cell_type": "code",
      "source": "# И далее...\n\nresponse['items'][0].keys()",
      "execution_count": 24,
      "outputs": [
        {
          "data": {
            "text/plain": "dict_keys(['id', 'premium', 'name', 'department', 'has_test', 'response_letter_required', 'area', 'salary', 'type', 'address', 'response_url', 'sort_point_distance', 'employer', 'published_at', 'created_at', 'archived', 'apply_alternate_url', 'insider_interview', 'url', 'alternate_url', 'relations', 'snippet', 'contacts'])"
          },
          "execution_count": 24,
          "metadata": {},
          "output_type": "execute_result"
        }
      ]
    },
    {
      "metadata": {
        "trusted": false
      },
      "cell_type": "code",
      "source": "# Ещё глубже...\n\ntype(response['items'][0]['employer'])",
      "execution_count": 25,
      "outputs": [
        {
          "data": {
            "text/plain": "dict"
          },
          "execution_count": 25,
          "metadata": {},
          "output_type": "execute_result"
        }
      ]
    },
    {
      "metadata": {
        "trusted": false
      },
      "cell_type": "code",
      "source": "# ...\n\nresponse['items'][0]['employer'].keys()",
      "execution_count": 26,
      "outputs": [
        {
          "data": {
            "text/plain": "dict_keys(['id', 'name', 'url', 'alternate_url', 'logo_urls', 'vacancies_url', 'trusted'])"
          },
          "execution_count": 26,
          "metadata": {},
          "output_type": "execute_result"
        }
      ]
    },
    {
      "metadata": {
        "trusted": false
      },
      "cell_type": "code",
      "source": "# Дошли до дна\n\nresponse['items'][0]['employer']['url']",
      "execution_count": 27,
      "outputs": [
        {
          "data": {
            "text/plain": "'https://api.hh.ru/employers/24934'"
          },
          "execution_count": 27,
          "metadata": {},
          "output_type": "execute_result"
        }
      ]
    },
    {
      "metadata": {
        "trusted": false
      },
      "cell_type": "code",
      "source": "#Интересно что за url, посмотрим...\n\nraw_response = requests.get('https://api.hh.ru/employers/2571535')\nresponse = raw_response.json()\nresponse",
      "execution_count": 28,
      "outputs": [
        {
          "data": {
            "text/plain": "{'id': '2571535',\n 'trusted': True,\n 'name': 'DR.CASH',\n 'type': 'company',\n 'description': '<p><strong>DR.CASH</strong> — CPA сеть,\\xa0работающая на международном рынке лидогенерации и перформанс маркетинга. У нас самые современные технологии, высокие зарплаты, интересные задачи и амбициозные планы.</p> \\xa0 <p>Кроме того, вы можете рассчитывать на:</p> <ul> <li>официальное\\xa0оформление и всегда своевременную оплату</li> <li>индивидуальную систему бонусов для каждого сотрудника (по договоренности)</li> <li>адекватных руководителей и\\xa0возможности для карьерного роста</li> <li>быстрорастущий проект, который нравится пользователям и хорошо зарабатывает</li> <li>дружелюбную атмосферу в\\xa0молодом коллективе профессионалов</li> <li>рабочее место по вкусу, чай, кофе, печеньки</li> <li>гибкий график начала и окончания рабочего дня</li> <li>иногородним — помощь в релокации</li> </ul> \\xa0 <p>Если вы хотели бы работать с нами, но в данный момент подходящие для вас вакансии не опубликованы — пишите на\\xa0hh@dr.cash</p> \\xa0 <p>Будем рады вашим откликам!</p>',\n 'site_url': 'http://dr.cash',\n 'alternate_url': 'https://hh.ru/employer/2571535',\n 'vacancies_url': 'https://api.hh.ru/vacancies?employer_id=2571535',\n 'logo_urls': {'240': 'https://hhcdn.ru/employer-logo/2567918.png',\n  'original': 'https://hhcdn.ru/employer-logo-original/531610.png',\n  '90': 'https://hhcdn.ru/employer-logo/2567917.png'},\n 'relations': [],\n 'area': {'id': '1', 'name': 'Москва', 'url': 'https://api.hh.ru/areas/1'},\n 'branded_description': None,\n 'insider_interviews': []}"
          },
          "execution_count": 28,
          "metadata": {},
          "output_type": "execute_result"
        }
      ]
    },
    {
      "metadata": {
        "trusted": false
      },
      "cell_type": "code",
      "source": "# А на последок, вводим наш url в адресную строку браузера\n\nraw_response.url",
      "execution_count": 29,
      "outputs": [
        {
          "data": {
            "text/plain": "'https://api.hh.ru/employers/2571535'"
          },
          "execution_count": 29,
          "metadata": {},
          "output_type": "execute_result"
        }
      ]
    },
    {
      "metadata": {
        "trusted": false
      },
      "cell_type": "code",
      "source": "# P.S: Особенно приятно это делать в Firefox",
      "execution_count": null,
      "outputs": []
    }
  ],
  "metadata": {
    "kernelspec": {
      "name": "python3",
      "display_name": "Python 3",
      "language": "python"
    },
    "language_info": {
      "mimetype": "text/x-python",
      "nbconvert_exporter": "python",
      "name": "python",
      "pygments_lexer": "ipython3",
      "version": "3.5.4",
      "file_extension": ".py",
      "codemirror_mode": {
        "version": 3,
        "name": "ipython"
      }
    }
  },
  "nbformat": 4,
  "nbformat_minor": 2
}