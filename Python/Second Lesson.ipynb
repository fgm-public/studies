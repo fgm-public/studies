{
  "cells": [
    {
      "metadata": {
        "trusted": true
      },
      "cell_type": "code",
      "source": "# Let's import some usefull stuff\n# For HTTP requests functions\nimport requests\n# Pretty progress bar\nfrom tqdm import tqdm\n\n# This function retrieves vacancies from HH API\n# It inputs 'search_criteria' parameter which\n# corresponds with occupation name\ndef vacancies_retriever(search_criteria):\n\n    # Base HeadHunter API-url for vacancy retrievement\n    api_url = 'https://api.hh.ru/vacancies'\n    # Vacancies search parameters\n    search_parameters = {\n        'text': search_criteria,\n        'per_page': 100,\n        'page': 0,\n        'clusters': 'true',\n        'describe_arguments': 'true',\n    }\n    # Request to API which concretized by 'api_url'\n    # with custom parameters concretized by 'search_parameters' dict\n    raw_response = requests.get(api_url, params=search_parameters)\n    # Restore native Python object from JSON text\n    response = raw_response.json()\n    # Brief vacancies list\n    brief_vacancies = response.get('items')\n    # Collecting URLs from brief vacancies\n    # which link to full vacancy descriptions\n    urls = [brief_vacancy.get('url')\n        for brief_vacancy in brief_vacancies]\n    # Form a list of full vacancies\n    vacancies = [requests.get(url).json()\n        for url in tqdm(urls)]\n    # Return full vacancies list\n    return vacancies",
      "execution_count": 1,
      "outputs": []
    },
    {
      "metadata": {
        "trusted": true
      },
      "cell_type": "code",
      "source": "# Call function with required occupation and store result in variable 'v'\n\nv = vacancies_retriever('Пекарь')",
      "execution_count": 2,
      "outputs": [
        {
          "output_type": "stream",
          "text": "100%|██████████| 100/100 [01:09<00:00,  1.42it/s]\n",
          "name": "stderr"
        }
      ]
    },
    {
      "metadata": {
        "trusted": true
      },
      "cell_type": "code",
      "source": "# Checking...\n\nlen(v)",
      "execution_count": 3,
      "outputs": [
        {
          "output_type": "execute_result",
          "execution_count": 3,
          "data": {
            "text/plain": "100"
          },
          "metadata": {}
        }
      ]
    },
    {
      "metadata": {
        "trusted": true
      },
      "cell_type": "code",
      "source": "# More...\n\ntype(v)",
      "execution_count": 4,
      "outputs": [
        {
          "output_type": "execute_result",
          "execution_count": 4,
          "data": {
            "text/plain": "list"
          },
          "metadata": {}
        }
      ]
    },
    {
      "metadata": {
        "trusted": true
      },
      "cell_type": "code",
      "source": "# And more...\n\nv[0]",
      "execution_count": 5,
      "outputs": [
        {
          "output_type": "execute_result",
          "execution_count": 5,
          "data": {
            "text/plain": "{'id': '30720280',\n 'premium': False,\n 'billing_type': {'id': 'standard_plus', 'name': 'Стандарт плюс'},\n 'relations': [],\n 'name': 'Пекарь',\n 'insider_interview': None,\n 'response_letter_required': False,\n 'area': {'id': '1',\n  'name': 'Москва',\n  'url': 'https://api.hh.ru/areas/1?host=hh.ru'},\n 'salary': {'from': 40000, 'to': 55000, 'currency': 'RUR', 'gross': False},\n 'type': {'id': 'open', 'name': 'Открытая'},\n 'address': {'city': 'Москва',\n  'street': 'Иловайская улица',\n  'building': '20к2',\n  'description': None,\n  'lat': 55.661313,\n  'lng': 37.723017,\n  'raw': None,\n  'metro': {'station_name': 'Марьино',\n   'line_name': 'Люблинско-Дмитровская',\n   'station_id': '10.79',\n   'line_id': '10',\n   'lat': 55.649158,\n   'lng': 37.743844},\n  'metro_stations': [{'station_name': 'Марьино',\n    'line_name': 'Люблинско-Дмитровская',\n    'station_id': '10.79',\n    'line_id': '10',\n    'lat': 55.649158,\n    'lng': 37.743844}]},\n 'allow_messages': True,\n 'site': {'id': 'hh', 'name': 'hh.ru'},\n 'experience': {'id': 'between1And3', 'name': 'От 1 года до 3 лет'},\n 'schedule': {'id': 'fullDay', 'name': 'Полный день'},\n 'employment': {'id': 'full', 'name': 'Полная занятость'},\n 'department': None,\n 'contacts': {'name': 'Андрей Владимирович',\n  'email': 'bedekkertx@mail.ru',\n  'phones': [{'comment': 'звонить с 09:00 до 18:00',\n    'city': '965',\n    'number': '4229055',\n    'country': '7'}]},\n 'description': '<strong>Обязанности:</strong> <ul> <li>Замес, деление теста, формовка, выпечка;</li> <li>Приготовление блюд по технологическим картам;</li> <li>Соблюдение рецептур и технологии приготовления;</li> <li>Контроль качества продукции;</li> <li>Умение определять готовность теста для дальнейшей выпечки;</li> <li>Работа с разными видами теста (весь цикл приготовления);</li> </ul> <strong>Требования:</strong> <ul> <li>Аккуратность, внимательность, исполнительность;</li> <li>Четкое выполнение задач, поставленных руководством.</li> <li>Опыт работы от 1 года;</li> <li>Пунктуальность;</li> <li>Опыт работы на подовой печи приветствуется.</li> <li>Опыт работы по технологическим и технико-технологическим картам.</li> </ul> <strong>Условия:</strong> <ul> <li>Отдельная раздевалка, комната отдыха, душевая;</li> <li>Питание за счет компании;</li> <li>Уровень заработной платы обсуждается на собеседовании;</li> <li>График работы 5/2 с 09:00 до 18:00</li> </ul> <p>Готовы рассмотреть кандидата на должность &quot;Старшего Пекаря&quot; с соответствующей индексацией заработной платы.</p> <p> </p>',\n 'branded_description': None,\n 'key_skills': [],\n 'accept_handicapped': False,\n 'accept_kids': False,\n 'archived': False,\n 'response_url': None,\n 'specializations': [{'id': '22.491',\n   'name': 'Повар',\n   'profarea_id': '22',\n   'profarea_name': 'Туризм, гостиницы, рестораны'},\n  {'id': '18.208',\n   'name': 'Пищевая промышленность',\n   'profarea_id': '18',\n   'profarea_name': 'Производство'}],\n 'code': None,\n 'hidden': False,\n 'quick_responses_allowed': False,\n 'driver_license_types': [],\n 'accept_incomplete_resumes': False,\n 'employer': {'id': '3560580',\n  'name': 'ТОТ ХЛЕБ',\n  'url': 'https://api.hh.ru/employers/3560580?host=hh.ru',\n  'alternate_url': 'https://hh.ru/employer/3560580',\n  'logo_urls': {'240': 'https://hhcdn.ru/employer-logo/2847721.jpeg',\n   '90': 'https://hhcdn.ru/employer-logo/2847720.jpeg',\n   'original': 'https://hhcdn.ru/employer-logo-original/601641.jpg'},\n  'vacancies_url': 'https://api.hh.ru/vacancies?employer_id=3560580&host=hh.ru',\n  'trusted': True},\n 'published_at': '2019-04-06T12:30:31+0300',\n 'created_at': '2019-04-06T12:30:31+0300',\n 'negotiations_url': None,\n 'suitable_resumes_url': None,\n 'apply_alternate_url': 'https://hh.ru/applicant/vacancy_response?vacancyId=30720280',\n 'has_test': False,\n 'test': None,\n 'alternate_url': 'https://hh.ru/vacancy/30720280'}"
          },
          "metadata": {}
        }
      ]
    },
    {
      "metadata": {
        "trusted": true
      },
      "cell_type": "code",
      "source": "# PROFIT!!!",
      "execution_count": null,
      "outputs": []
    }
  ],
  "metadata": {
    "kernelspec": {
      "name": "python36",
      "display_name": "Python 3.6",
      "language": "python"
    },
    "language_info": {
      "mimetype": "text/x-python",
      "nbconvert_exporter": "python",
      "name": "python",
      "pygments_lexer": "ipython3",
      "version": "3.6.6",
      "file_extension": ".py",
      "codemirror_mode": {
        "version": 3,
        "name": "ipython"
      }
    }
  },
  "nbformat": 4,
  "nbformat_minor": 2
}