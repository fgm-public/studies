{
  "cells": [
    {
      "metadata": {
        "collapsed": true,
        "trusted": false
      },
      "cell_type": "code",
      "source": "\n# This function calculates the average salary from list of vacancies\n# retrieved by 'vacancies_retriever()' function from second lesson\ndef average_salary(vacancies):\n\n    # Just auxiliary variables\n    # 'sum' stores all salaries\n    # 'total' stores summed salaries count\n    sum = total = 0\n\n    for vacancy in vacancies:\n        # Put salary dict from vacancy in variable\n        salary = vacancy.get('salary')\n        # If salary presented\n        if salary:\n            # If salary currency is ruble\n            if salary.get('currency') == 'RUR':\n                # If salary indicated before tax\n                if salary.get('gross'):\n                    # If lower salary limit is indicated\n                    if salary.get('from'):\n                        # Dedup tax\n                        salary['from'] = salary['from'] * 0.87\n                    # If upper salary limit is indicated\n                    if salary.get('to'):\n                        # Dedup tax\n                        salary['to'] = salary['to'] * 0.87\n                # Sum all salary values\n                if salary.get('from'):\n                    sum += salary.get('from')\n                    total += 1\n                # Sum all salary values\n                if salary.get('to'):\n                    sum += salary.get('to')\n                    total += 1\n\n    # Calculate average salary\n    average = sum / total\n    \n    return average\n\n\n# See second lesson\nv = vacancies_retriever('Пекарь')\n\nresult = average_salary(v)\n\n# PROFIT!\nprint(result)\n",
      "execution_count": null,
      "outputs": []
    }
  ],
  "metadata": {
    "kernelspec": {
      "name": "python36",
      "display_name": "Python 3.6",
      "language": "python"
    },
    "language_info": {
      "mimetype": "text/x-python",
      "nbconvert_exporter": "python",
      "name": "python",
      "pygments_lexer": "ipython3",
      "version": "3.6.6",
      "file_extension": ".py",
      "codemirror_mode": {
        "version": 3,
        "name": "ipython"
      }
    }
  },
  "nbformat": 4,
  "nbformat_minor": 2
}